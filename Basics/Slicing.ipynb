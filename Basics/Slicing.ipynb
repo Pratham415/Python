{
 "cells": [
  {
   "cell_type": "markdown",
   "metadata": {},
   "source": [
    "# String Slicing\n",
    "---"
   ]
  },
  {
   "cell_type": "code",
   "execution_count": 5,
   "metadata": {},
   "outputs": [
    {
     "name": "stdout",
     "output_type": "stream",
     "text": [
      "String is declared this way\n"
     ]
    }
   ],
   "source": [
    "var = \"String is declared this way\"\n",
    "print(var, type(var))"
   ]
  },
  {
   "cell_type": "code",
   "execution_count": 13,
   "metadata": {},
   "outputs": [
    {
     "name": "stdout",
     "output_type": "stream",
     "text": [
      "Hello adityarajsinh, \n",
      "Welcome, to our app\n"
     ]
    }
   ],
   "source": [
    "# f_ormatted string (fstring)\n",
    "\n",
    "# name = input(\"Enter your name: \")\n",
    "# greet = f\"Hello {name}, \\nWelcome to our app\"\n",
    "greet = f\"Hello {input(\"Enter your name: \")}, \\nWelcome, to our app\"\n",
    "print(greet)"
   ]
  },
  {
   "cell_type": "code",
   "execution_count": 23,
   "metadata": {},
   "outputs": [
    {
     "name": "stdout",
     "output_type": "stream",
     "text": [
      "o\n",
      "o\n",
      "6\n"
     ]
    }
   ],
   "source": [
    "# Accessing string element\n",
    "\n",
    "s = 'Python'\n",
    "print(s[4])\n",
    "print(s[-2])\n",
    "print(len(s))\n",
    "\n",
    "# 0 1 2 3 4 5   <- +ve indexing\n",
    "# p y t h o n\n",
    "\n",
    "# -6 -5 -4 -3 -2 -1   <- -ve indexing\n",
    "#  p  y  t  h  o  n"
   ]
  },
  {
   "cell_type": "markdown",
   "metadata": {},
   "source": [
    "### Slicing - a TECHNIQUE that helps in extraction of specific words/parts from string.\n",
    "```python\n",
    "syntax: \n",
    "    Sequence[start(inclusive):end(exclusive):step-1]\n",
    "\n",
    "default values:\n",
    "start: 0\n",
    "end: len(str) - 1\n",
    "step: 1\n",
    "```"
   ]
  },
  {
   "cell_type": "code",
   "execution_count": 3,
   "metadata": {},
   "outputs": [
    {
     "name": "stdout",
     "output_type": "stream",
     "text": [
      "Arti from Intel\n"
     ]
    }
   ],
   "source": [
    "# Positive Slicing\n",
    "s = \"Artificial_Intelligence\"\n",
    "\n",
    "# print(s[:10])\n",
    "# print(s[4:10])\n",
    "# print(s[:4])\n",
    "# print(s[:5])\n",
    "\n",
    "print(f\"{s[:4]} from {s[11:16]}\")"
   ]
  },
  {
   "cell_type": "code",
   "execution_count": 6,
   "metadata": {},
   "outputs": [
    {
     "name": "stdout",
     "output_type": "stream",
     "text": [
      "123456789\n"
     ]
    }
   ],
   "source": [
    "# Step - skip characters\n",
    "\n",
    "word = \"0_1_2_3_4_5_6_7_8_9\"\n",
    "\n",
    "# print(word[::2])\n",
    "# print(word[4::4])\n",
    "print(word[2::2])"
   ]
  },
  {
   "cell_type": "code",
   "execution_count": 11,
   "metadata": {},
   "outputs": [
    {
     "name": "stdout",
     "output_type": "stream",
     "text": [
      "Royal Technosoft Pvt. Ltd\n"
     ]
    }
   ],
   "source": [
    "# Negative Slicing (reverse reading of any iterable data)\n",
    "\n",
    "s = \"Royal Technosoft Pvt. Ltd.\"\n",
    "# print(s[-1:])   # .\n",
    "# print(s[:-1])   # everything else except the last char\n"
   ]
  },
  {
   "cell_type": "code",
   "execution_count": 34,
   "metadata": {},
   "outputs": [
    {
     "name": "stdout",
     "output_type": "stream",
     "text": [
      "13\n",
      "!dlroW ,olleH\n",
      "\n"
     ]
    }
   ],
   "source": [
    "s = \"Hello, World!\"\n",
    "print(len(s))\n",
    "# print(s[len(s)-3:])\n",
    "# print(s[-3:])\n",
    "# print(s[:-3])\n",
    "print(s[::-1])    # when you put step -1, the string will be reversed\n",
    "# print(s[-10:-13:-1])\n",
    "# print(s[-4:-1:1])\n",
    "# print(s[-1:-4:-1])\n",
    "# print(s[:0:-1])\n",
    "print(s[1:-5:-1])\n",
    "# print(s[-5:1:-1])"
   ]
  },
  {
   "cell_type": "markdown",
   "metadata": {},
   "source": [
    "### smol praktis\n",
    "```python\n",
    "my_string = \"The quick brown fox jumps over the lazy dog\"\n",
    "> reverse a substring from index -10 to -30 with a step of -1\n",
    "> Extract \"dog lazy the over\" form the reversed string\n",
    "> Extract every second character in reverse from the original string\n",
    "```"
   ]
  },
  {
   "cell_type": "code",
   "execution_count": 16,
   "metadata": {},
   "outputs": [
    {
     "data": {
      "text/plain": [
       "'dog lazy the over'"
      ]
     },
     "execution_count": 16,
     "metadata": {},
     "output_type": "execute_result"
    }
   ],
   "source": [
    "my_string = \"The quick brown fox jumps over the lazy dog\"\n",
    "my_string[-3::] + \" \" + my_string[-8:-4] + \" \" + my_string[-12:-9] + \" \" + my_string[-17:-13]"
   ]
  }
 ],
 "metadata": {
  "kernelspec": {
   "display_name": "Teach",
   "language": "python",
   "name": "teach"
  },
  "language_info": {
   "codemirror_mode": {
    "name": "ipython",
    "version": 3
   },
   "file_extension": ".py",
   "mimetype": "text/x-python",
   "name": "python",
   "nbconvert_exporter": "python",
   "pygments_lexer": "ipython3",
   "version": "3.12.4"
  }
 },
 "nbformat": 4,
 "nbformat_minor": 2
}
