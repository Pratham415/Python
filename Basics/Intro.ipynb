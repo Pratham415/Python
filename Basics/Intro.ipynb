{
 "cells": [
  {
   "cell_type": "code",
   "execution_count": 11,
   "id": "cf9f41d4-ebcd-4154-aa4c-59b266a454d7",
   "metadata": {},
   "outputs": [
    {
     "data": {
      "text/plain": [
       "'\\nthis\\nis\\nmulti\\nline\\ncomment\\n'"
      ]
     },
     "execution_count": 11,
     "metadata": {},
     "output_type": "execute_result"
    }
   ],
   "source": [
    "# Single line Comment\n",
    "'''\n",
    "this\n",
    "is\n",
    "multi\n",
    "line\n",
    "comment\n",
    "'''"
   ]
  },
  {
   "cell_type": "markdown",
   "id": "fcd5571f",
   "metadata": {},
   "source": [
    "### print statement:\n",
    "```python\n",
    "syntax:\n",
    "    (*objects, sep=' ', end=\"\\n\") -> None\n",
    "```"
   ]
  },
  {
   "cell_type": "code",
   "execution_count": 22,
   "id": "2ecbcc81",
   "metadata": {},
   "outputs": [
    {
     "name": "stdout",
     "output_type": "stream",
     "text": [
      "This is 1 2 3.3 4.445 512364236423648923647892364\n",
      "this is an object \t this is another line\tApple_Banana_Cherry\n"
     ]
    }
   ],
   "source": [
    "print(\"This is 1\", 2, 3.3, 4.445, 512364236423648923647892364)\n",
    "print(\"this is an object\", '\\t', \"this is another line\", end='\\t')\n",
    "print(\"Apple\", \"Banana\", \"Cherry\", sep=\"_\")"
   ]
  },
  {
   "cell_type": "markdown",
   "id": "6802cc5a",
   "metadata": {},
   "source": [
    "# Data Types\n",
    "---\n",
    "\n",
    "1. Text: str\n",
    "1. Numeric: int, float, complex(117j)\n",
    "1. Sequence: list, tuple, range\n",
    "1. Mapping: dict\n",
    "1. Set: set, frozenset\n",
    "1. Boolean: bool\n",
    "1. Binary: bytes(binary), bytearray(array of binary nums)\n",
    "1. None: NoneType"
   ]
  },
  {
   "cell_type": "code",
   "execution_count": 25,
   "id": "5021824d",
   "metadata": {},
   "outputs": [
    {
     "name": "stdout",
     "output_type": "stream",
     "text": [
      "\"Hello World!\"\n",
      "\"\"\"Hello World!\"\"\"\n",
      "\"\"\"Hello World!\"\"\"\n"
     ]
    }
   ],
   "source": [
    "print(\"\\\"Hello World!\\\"\")\n",
    "print('\"\"\"Hello World!\"\"\"')\n",
    "print(\"\\\"\\\"\\\"Hello World!\\\"\\\"\\\"\")"
   ]
  },
  {
   "cell_type": "markdown",
   "id": "0cbe601b",
   "metadata": {},
   "source": [
    "### id() - used to verify the identity of any variable\n",
    "### type() - used to identify the data type (return classes)\n",
    "---"
   ]
  },
  {
   "cell_type": "code",
   "execution_count": 49,
   "id": "d48a0952",
   "metadata": {},
   "outputs": [
    {
     "name": "stdout",
     "output_type": "stream",
     "text": [
      "140716549028632 ->  <class 'int'> ->  12\n"
     ]
    }
   ],
   "source": [
    "# Variables\n",
    "\n",
    "# a = \"str\"\n",
    "# b = \"str1\"\n",
    "# print(id(a))\n",
    "# print(id(b))\n",
    "# print(type(a))\n",
    "\n",
    "# a = 12      # int\n",
    "# a = 12.6    # float\n",
    "# a = 1-12j   # complex\n",
    "# a = \"str\"   # str\n",
    "# a = True    # bool (True/False)\n",
    "# a = b'\\x01' # bytes\n",
    "# a = None\n",
    "a = 12\n",
    "\n",
    "print(id(a), '-> ', type(a), '-> ', a)"
   ]
  },
  {
   "cell_type": "markdown",
   "id": "fc5fc16b",
   "metadata": {},
   "source": [
    "## Operators\n",
    "---\n",
    "- Arithmetic operators (+, -, *, /, %, **, //)\n",
    "- print(2 ** 3) # Exponentiation\n",
    "- print(16 // 3) # floor division\n",
    "- Assignment operators\n",
    "- Comparison operators\n",
    "- Logical operators -> and, or, not\n",
    "- Identity operators -> is, is not\n",
    "- Membership operators -> in, not in\n",
    "- Bitwise operators"
   ]
  },
  {
   "cell_type": "code",
   "execution_count": 55,
   "id": "953f6433",
   "metadata": {},
   "outputs": [
    {
     "name": "stdout",
     "output_type": "stream",
     "text": [
      "32\n",
      "10.666666666666666\n"
     ]
    }
   ],
   "source": [
    "print(2 ** 5)\n",
    "print(32 // 3)"
   ]
  },
  {
   "cell_type": "markdown",
   "id": "c8452af7",
   "metadata": {},
   "source": [
    "### Scan Data\n",
    "\n",
    "- input fn is used to scan data from the user (default input type is str)\n",
    "```python\n",
    "syntax:\n",
    "    var = input(\"prompt to user\") # type str\n",
    "```"
   ]
  },
  {
   "cell_type": "code",
   "execution_count": 61,
   "id": "5a43e9f6",
   "metadata": {},
   "outputs": [
    {
     "name": "stdout",
     "output_type": "stream",
     "text": [
      "1 <class 'int'>\n"
     ]
    }
   ],
   "source": [
    "a = int(input(\"Enter any int: \"))\n",
    "print(a, type(a))"
   ]
  }
 ],
 "metadata": {
  "kernelspec": {
   "display_name": "Teach",
   "language": "python",
   "name": "teach"
  },
  "language_info": {
   "codemirror_mode": {
    "name": "ipython",
    "version": 3
   },
   "file_extension": ".py",
   "mimetype": "text/x-python",
   "name": "python",
   "nbconvert_exporter": "python",
   "pygments_lexer": "ipython3",
   "version": "3.12.4"
  }
 },
 "nbformat": 4,
 "nbformat_minor": 5
}
