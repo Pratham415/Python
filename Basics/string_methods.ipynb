{
 "cells": [
  {
   "cell_type": "markdown",
   "metadata": {},
   "source": [
    "# String methods\n",
    "---"
   ]
  },
  {
   "cell_type": "markdown",
   "metadata": {},
   "source": [
    "### C char\n",
    "---"
   ]
  },
  {
   "cell_type": "code",
   "execution_count": 2,
   "metadata": {},
   "outputs": [],
   "source": [
    "text = \"  Hello, Python World! Let's explore string methods.  \""
   ]
  },
  {
   "cell_type": "code",
   "execution_count": 9,
   "metadata": {},
   "outputs": [
    {
     "data": {
      "text/plain": [
       "5"
      ]
     },
     "execution_count": 9,
     "metadata": {},
     "output_type": "execute_result"
    }
   ],
   "source": [
    "text.count('e')"
   ]
  },
  {
   "cell_type": "code",
   "execution_count": 10,
   "metadata": {},
   "outputs": [
    {
     "data": {
      "text/plain": [
       "'Text is text only'"
      ]
     },
     "execution_count": 10,
     "metadata": {},
     "output_type": "execute_result"
    }
   ],
   "source": [
    "\"text is tExt Only\".capitalize()"
   ]
  },
  {
   "cell_type": "code",
   "execution_count": 17,
   "metadata": {},
   "outputs": [
    {
     "data": {
      "text/plain": [
       "'python'"
      ]
     },
     "execution_count": 17,
     "metadata": {},
     "output_type": "execute_result"
    }
   ],
   "source": [
    "\"PyThon\".casefold()\n",
    "# \"PyThon\".casefold() == 'python'"
   ]
  },
  {
   "cell_type": "code",
   "execution_count": 40,
   "metadata": {},
   "outputs": [
    {
     "name": "stdout",
     "output_type": "stream",
     "text": [
      "--------------------\n",
      "|     Pratham      |\n",
      "--------------------\n"
     ]
    }
   ],
   "source": [
    "# \"Python\".center(10)\n",
    "# \"Python\".center(20, '-')\n",
    "print(\"\".center(20, '-'))\n",
    "print(\"|\", \"Pratham\".center(18, ' '), \"|\", sep=\"\")\n",
    "print(\"\".center(20, '-'))\n",
    "\n",
    "# print(\"1\", \"2\", sep=\"\")"
   ]
  },
  {
   "cell_type": "code",
   "execution_count": 41,
   "metadata": {},
   "outputs": [
    {
     "name": "stdout",
     "output_type": "stream",
     "text": [
      "54\n"
     ]
    }
   ],
   "source": [
    "print(len(text))"
   ]
  },
  {
   "cell_type": "markdown",
   "metadata": {},
   "source": [
    "### E char\n",
    "---"
   ]
  },
  {
   "cell_type": "code",
   "execution_count": 52,
   "metadata": {},
   "outputs": [
    {
     "name": "stdout",
     "output_type": "stream",
     "text": [
      "b'caf&#233;'\n"
     ]
    }
   ],
   "source": [
    "# print(\"café\".encode(encoding=\"ASCII\", errors=\"backslashreplace\"))\n",
    "# print(\"café\".encode(encoding=\"ASCII\", errors=\"ignore\"))\n",
    "# print(\"café\".encode(encoding=\"ASCII\", errors=\"namereplace\"))\n",
    "# print(\"café\".encode(encoding=\"ASCII\", errors=\"strict\"))\n",
    "# print(\"café\".encode(encoding=\"ASCII\", errors=\"replace\"))\n",
    "print(\"café\".encode(encoding=\"ASCII\", errors=\"xmlcharrefreplace\"))"
   ]
  },
  {
   "cell_type": "code",
   "execution_count": 65,
   "metadata": {},
   "outputs": [
    {
     "data": {
      "text/plain": [
       "True"
      ]
     },
     "execution_count": 65,
     "metadata": {},
     "output_type": "execute_result"
    }
   ],
   "source": [
    "\"Pratham bhau\".endswith(\"au\")"
   ]
  },
  {
   "cell_type": "code",
   "execution_count": 69,
   "metadata": {},
   "outputs": [
    {
     "data": {
      "text/plain": [
       "'Hello     W         orldHello'"
      ]
     },
     "execution_count": 69,
     "metadata": {},
     "output_type": "execute_result"
    }
   ],
   "source": [
    "\"Hello\\tW\\torldHello\".expandtabs(10)"
   ]
  },
  {
   "cell_type": "markdown",
   "metadata": {},
   "source": [
    "### F char\n",
    "---"
   ]
  },
  {
   "cell_type": "code",
   "execution_count": 89,
   "metadata": {},
   "outputs": [
    {
     "data": {
      "text/plain": [
       "'ba'"
      ]
     },
     "execution_count": 89,
     "metadata": {},
     "output_type": "execute_result"
    }
   ],
   "source": [
    "# print(\"hello world\".find(\"o\"))\n",
    "# print(\"hello world\".find(\"o\", 5))\n",
    "# print(\"hello world\".find(\"o\", 5, 7))\n",
    "\n",
    "# +ve - len(str) = -ve index\n",
    "# \"python programming\".find('prog') # len = 18\n",
    "# \"python programming\"[::-1].find('gorp')\n",
    "# print(\"python programming\"[::-1][-11])\n",
    "\"abcd\"[::-1][2:]"
   ]
  },
  {
   "cell_type": "code",
   "execution_count": 4,
   "metadata": {},
   "outputs": [
    {
     "name": "stdout",
     "output_type": "stream",
     "text": [
      "Good Morning!\n",
      "2 + 3 = 5\n",
      "Addition of 5 and 3 is 8\n",
      "Addition of 5.00 and 3.000 is 8.0000\n"
     ]
    }
   ],
   "source": [
    "text = \"Good {}!\"\n",
    "\n",
    "print(text.format(\"Morning\"))\n",
    "print(\"{} + {} = {}\".format(2, 3, 2+3))\n",
    "print(f\"Addition of {5} and {3} is {5+3}\")\n",
    "print(f\"Addition of {5:.2f} and {3:.3f} is {(5+3):.4f}\")"
   ]
  },
  {
   "cell_type": "markdown",
   "metadata": {},
   "source": [
    "### I Char\n",
    "---"
   ]
  },
  {
   "cell_type": "code",
   "execution_count": 8,
   "metadata": {},
   "outputs": [
    {
     "name": "stdout",
     "output_type": "stream",
     "text": [
      "4\n",
      "True\n",
      "True\n"
     ]
    }
   ],
   "source": [
    "print(\"hello world\".index('o'))\n",
    "print(\"HELLO124\".isupper())\n",
    "print(\"hello124\".islower())"
   ]
  },
  {
   "cell_type": "code",
   "execution_count": 16,
   "metadata": {},
   "outputs": [
    {
     "name": "stdout",
     "output_type": "stream",
     "text": [
      "True\n",
      "True\n",
      "True\n"
     ]
    }
   ],
   "source": [
    "print(\"hello\".isalpha())\n",
    "print(\"1he2llo12\".isalnum())\n",
    "print(\"1he2llo12\".isascii())"
   ]
  },
  {
   "cell_type": "code",
   "execution_count": 25,
   "metadata": {},
   "outputs": [
    {
     "name": "stdout",
     "output_type": "stream",
     "text": [
      "True\n",
      "True\n",
      "True\n"
     ]
    }
   ],
   "source": [
    "print(\"9992399\".isdigit())\n",
    "print(\"9992399\".isdecimal())\n",
    "print(\"9992399\".isnumeric())"
   ]
  },
  {
   "cell_type": "code",
   "execution_count": 59,
   "metadata": {},
   "outputs": [
    {
     "name": "stdout",
     "output_type": "stream",
     "text": [
      "True\n",
      "False\n",
      "True\n",
      "True\n"
     ]
    }
   ],
   "source": [
    "print(\"var1\".isidentifier())\n",
    "print(\"cafē\\n\".isprintable())\n",
    "print(\"    \".isspace())\n",
    "print(\" Hello World\".istitle())"
   ]
  },
  {
   "cell_type": "markdown",
   "metadata": {},
   "source": [
    "### J Char\n",
    "---"
   ]
  },
  {
   "cell_type": "code",
   "execution_count": 56,
   "metadata": {},
   "outputs": [
    {
     "name": "stdout",
     "output_type": "stream",
     "text": [
      "Z⭐a⭐f⭐a⭐r⭐ ⭐S⭐i⭐r\n",
      "  Z a f a r   S i r  \n"
     ]
    }
   ],
   "source": [
    "print(\"⭐\".join(\"Zafar Sir\"))\n",
    "print(\" \".join(\" Zafar Sir \"))"
   ]
  },
  {
   "cell_type": "markdown",
   "metadata": {},
   "source": [
    "### L Char\n",
    "---"
   ]
  },
  {
   "cell_type": "code",
   "execution_count": 65,
   "metadata": {},
   "outputs": [
    {
     "name": "stdout",
     "output_type": "stream",
     "text": [
      "'hello-----'\n",
      "ello\n"
     ]
    }
   ],
   "source": [
    "print(\"'\", \"hello\".ljust(10, '-'), \"'\", sep=\"\")\n",
    "print(\"-*-*-*-*-*|-*-*-*-*-*-*-*-hello\".lstrip('*-h|'))"
   ]
  },
  {
   "cell_type": "markdown",
   "metadata": {},
   "source": [
    "### maketrans / translate method\n",
    "---"
   ]
  },
  {
   "cell_type": "code",
   "execution_count": 68,
   "metadata": {},
   "outputs": [
    {
     "name": "stdout",
     "output_type": "stream",
     "text": [
      "{111: 48, 116: 128522}\n",
      "r0yal 😊echn0s0f😊 pv😊. l😊d.\n"
     ]
    }
   ],
   "source": [
    "string = \"royal technosoft pvt. ltd.\"\n",
    "table = str.maketrans(\"ot\", \"0😊\")\n",
    "print(table)        # print the translation table\n",
    "print(string.translate(table)) # print the actual replaced string"
   ]
  },
  {
   "cell_type": "markdown",
   "metadata": {},
   "source": [
    "### P Char\n",
    "---"
   ]
  },
  {
   "cell_type": "code",
   "execution_count": 78,
   "metadata": {},
   "outputs": [
    {
     "name": "stdout",
     "output_type": "stream",
     "text": [
      "('royal ', 'tech', 'nosoft')\n",
      "('royal', ' ', 'technosoft')\n",
      "('r', 'o', 'yal technosoft')\n",
      "('royal technosoft', '', '')\n",
      "('royal technoso', 'ft', '')\n"
     ]
    }
   ],
   "source": [
    "print(\"royal technosoft\".partition(\"tech\"))\n",
    "print(\"royal technosoft\".partition(\" \"))\n",
    "print(\"royal technosoft\".partition(\"o\"))\n",
    "# print(\"royal technosoft\".partition(\"\"))     #ValueError: empty separator\n",
    "print(\"royal technosoft\".partition(\"@\"))\n",
    "print(\"royal technosoft\".partition(\"ft\"))"
   ]
  },
  {
   "cell_type": "markdown",
   "metadata": {},
   "source": [
    "### R Char\n",
    "---"
   ]
  },
  {
   "cell_type": "code",
   "execution_count": 79,
   "metadata": {},
   "outputs": [
    {
     "name": "stdout",
     "output_type": "stream",
     "text": [
      "royal TECHnosoft\n",
      "royal nosoft\n"
     ]
    }
   ],
   "source": [
    "print(\"royal technosoft\".replace(\"tech\", \"TECH\"))\n",
    "print(\"royal technosoft\".replace(\"tech\", \"\"))"
   ]
  },
  {
   "cell_type": "code",
   "execution_count": 85,
   "metadata": {},
   "outputs": [
    {
     "name": "stdout",
     "output_type": "stream",
     "text": [
      "'royal technosoft  m'\n",
      "yal technosoft\n",
      "royal tech\n"
     ]
    }
   ],
   "source": [
    "print(\"'\", \"royal technosoft  m      \".rstrip(\" \"), \"'\", sep='')\n",
    "print(\"royal technosoft\".removeprefix(\"ro\"))\n",
    "print(\"royal technosoft\".removesuffix(\"nosoft\"))"
   ]
  },
  {
   "cell_type": "code",
   "execution_count": 92,
   "metadata": {},
   "outputs": [
    {
     "name": "stdout",
     "output_type": "stream",
     "text": [
      "13\n",
      "13\n"
     ]
    }
   ],
   "source": [
    "print(\"royal technosoft\".rfind(\"o\"))\n",
    "print(\"royal technosoft\".rindex(\"o\"))"
   ]
  },
  {
   "cell_type": "code",
   "execution_count": 100,
   "metadata": {},
   "outputs": [
    {
     "name": "stdout",
     "output_type": "stream",
     "text": [
      "'----------------------------------royal technosoft'\n",
      "['royal ', 'nosoft']\n",
      "('royal technos', 'o', 'ft')\n"
     ]
    }
   ],
   "source": [
    "print(\"'\", \"royal technosoft\".rjust(50, '-'), \"'\", sep=\"\")\n",
    "print(\"royal technosoft\".rsplit(\"tech\"))\n",
    "print(\"royal technosoft\".rpartition(\"o\"))"
   ]
  },
  {
   "cell_type": "markdown",
   "metadata": {},
   "source": [
    "### S Char\n",
    "---"
   ]
  },
  {
   "cell_type": "code",
   "execution_count": 8,
   "metadata": {},
   "outputs": [
    {
     "name": "stdout",
     "output_type": "stream",
     "text": [
      "True\n",
      "['royal ', 'nosoft']\n",
      "['Lorem ipsum ', 'dolor sit amet consectetur ', '', 'adipisicing elit. Error iusto, quam culpa odit non, quae, facilis perspiciatis praesentium optio possimus nisi totam? ']\n",
      "0----&--------Smit Chaudhary-^^---$-----^^----^-0----&\n",
      "pRAthAm pAteL\n"
     ]
    }
   ],
   "source": [
    "print(\"royal technosoft\".startswith(\"royal\"))\n",
    "print(\"royal technosoft\".split(\"tech\"))\n",
    "print(\"Lorem ipsum \\ndolor sit amet consectetur \\n\\nadipisicing elit. Error iusto, quam culpa odit non, quae, facilis perspiciatis praesentium optio possimus nisi totam? \".splitlines())\n",
    "print(\"^^^^^^^^^^^^^^-^^---$-----^^----^-0----&--------Smit Chaudhary-^^---$-----^^----^-0----&--------^^^^^^^^^^^^\".strip(\"-^$\"))\n",
    "print(\"PraTHaM PaTEl\".swapcase())"
   ]
  },
  {
   "cell_type": "markdown",
   "metadata": {},
   "source": [
    "### Rest Methods\n",
    "---"
   ]
  },
  {
   "cell_type": "code",
   "execution_count": null,
   "metadata": {},
   "outputs": [
    {
     "name": "stdout",
     "output_type": "stream",
     "text": [
      "Pratham Patel\n",
      "PRATHAM PATEL\n",
      "pratham patel\n",
      "00PrAthAM PaTEl\n"
     ]
    }
   ],
   "source": [
    "print(\"PrAthAM PaTEl\".title())\n",
    "print(\"PrAthAM PaTEl\".upper())\n",
    "print(\"PrAthAM PaTEl\".lower())\n",
    "# print(\"1100\".zfill(8))\n",
    "print(\"PrAthAM PaTEl\".zfill(15))"
   ]
  }
 ],
 "metadata": {
  "kernelspec": {
   "display_name": "Python 3",
   "language": "python",
   "name": "python3"
  },
  "language_info": {
   "codemirror_mode": {
    "name": "ipython",
    "version": 3
   },
   "file_extension": ".py",
   "mimetype": "text/x-python",
   "name": "python",
   "nbconvert_exporter": "python",
   "pygments_lexer": "ipython3",
   "version": "3.13.0"
  }
 },
 "nbformat": 4,
 "nbformat_minor": 2
}
